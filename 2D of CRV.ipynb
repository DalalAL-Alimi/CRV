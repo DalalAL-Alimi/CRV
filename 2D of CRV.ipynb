{
  "nbformat": 4,
  "nbformat_minor": 0,
  "metadata": {
    "colab": {
      "provenance": [],
      "collapsed_sections": []
    },
    "kernelspec": {
      "name": "python3",
      "display_name": "Python 3"
    },
    "language_info": {
      "name": "python"
    }
  },
  "cells": [
    {
      "cell_type": "code",
      "source": [
        "import keras\n",
        "from keras.layers import Conv2D, Conv3D, Flatten, Dense, Reshape, BatchNormalization\n",
        "from keras.layers import Dropout, Input\n",
        "from keras.models import Model\n",
        "from tensorflow.keras.optimizers import Adam\n",
        "from keras.callbacks import ModelCheckpoint\n",
        "from keras.utils import np_utils\n",
        "\n",
        "from sklearn.decomposition import PCA\n",
        "from sklearn.model_selection import train_test_split\n",
        "from sklearn.metrics import confusion_matrix, accuracy_score, classification_report, cohen_kappa_score\n",
        "\n",
        "from operator import truediv\n",
        "\n",
        "from plotly.offline import init_notebook_mode\n",
        "\n",
        "import numpy as np\n",
        "import matplotlib.pyplot as plt\n",
        "import scipy.io as sio\n",
        "import os\n",
        "\n",
        "\n",
        "import pandas as pd\n",
        "import numpy as np\n",
        "import time\n",
        "import seaborn as sn\n",
        "\n",
        "init_notebook_mode(connected=True)\n",
        "%matplotlib inline"
      ],
      "metadata": {
        "colab": {
          "base_uri": "https://localhost:8080/",
          "height": 17
        },
        "id": "kl6ERfl9VZxv",
        "outputId": "b4afc388-98bb-460c-83cd-13c4263de1ea"
      },
      "execution_count": 1,
      "outputs": [
        {
          "output_type": "display_data",
          "data": {
            "text/html": [
              "        <script type=\"text/javascript\">\n",
              "        window.PlotlyConfig = {MathJaxConfig: 'local'};\n",
              "        if (window.MathJax) {MathJax.Hub.Config({SVG: {font: \"STIX-Web\"}});}\n",
              "        if (typeof require !== 'undefined') {\n",
              "        require.undef(\"plotly\");\n",
              "        requirejs.config({\n",
              "            paths: {\n",
              "                'plotly': ['https://cdn.plot.ly/plotly-2.8.3.min']\n",
              "            }\n",
              "        });\n",
              "        require(['plotly'], function(Plotly) {\n",
              "            window._Plotly = Plotly;\n",
              "        });\n",
              "        }\n",
              "        </script>\n",
              "        "
            ]
          },
          "metadata": {}
        }
      ]
    },
    {
      "cell_type": "code",
      "source": [
        "from skimage.morphology import reconstruction\n",
        "from sklearn.preprocessing import QuantileTransformer\n",
        "\n",
        "def CRV(X, band_no, w, h, numComponents):\n",
        "\n",
        "  X_mean = X\n",
        "  X_mean['mean'] = X_mean.mean(axis=1)\n",
        "  Avr = [X_mean['mean']]\n",
        "  rep_Avr = np.repeat(Avr, band_no)\n",
        "  rep_Avr =np.reshape(rep_Avr, (-1,band_no))\n",
        "  main_X = X.iloc[:, :-1]\n",
        "  print(main_X.shape, rep_Avr.shape)\n",
        "  seed = main_X - rep_Avr\n",
        "  dilated = reconstruction(seed.values, main_X.values)\n",
        "  hdome = main_X - dilated\n",
        "\n",
        "\n",
        "  hdome_raw_mean = hdome\n",
        "  hdome_raw_mean = hdome_raw_mean.append(hdome_raw_mean.agg(['mean'], axis=0))\n",
        "  sort_hdome_raw_mean = hdome_raw_mean.sort_values(by='mean', axis=1, ascending=False)\n",
        "  Top_columns = sort_hdome_raw_mean[sort_hdome_raw_mean.columns[0:numComponents]]\n",
        "  columns_Names = Top_columns.columns\n",
        "\n",
        "  print(columns_Names)\n",
        "\n",
        "  input_data = df[columns_Names]\n",
        "\n",
        "  scaler = QuantileTransformer(n_quantiles=15, random_state=0,output_distribution='normal') #\n",
        "  scaler = scaler.fit_transform(input_data)\n",
        "  #scaler = np.reshape(scaler, numComponents)\n",
        "  print(scaler.shape)\n",
        "\n",
        "  return scaler"
      ],
      "metadata": {
        "id": "enAUlH-f_1cF"
      },
      "execution_count": 2,
      "outputs": []
    },
    {
      "cell_type": "code",
      "source": [
        "import pandas as pd\n",
        "import numpy as np\n",
        "\n",
        "def extract_pixels(X, y):\n",
        "  #q = X.reshape(-1, X.shape[2])\n",
        "  df = pd.DataFrame(data = X)\n",
        "  df = pd.concat([df, pd.DataFrame(data = y.ravel())], axis=1)\n",
        "  df.columns= [f'band{i}' for i in range(1, 1+X.shape[1])]+['class']\n",
        "\n",
        "  return df"
      ],
      "metadata": {
        "id": "sLzDU5LEMJk9"
      },
      "execution_count": 3,
      "outputs": []
    },
    {
      "cell_type": "code",
      "metadata": {
        "id": "Emrh1HoDNibW"
      },
      "source": [
        "# Importing the libraries\n",
        "import numpy as np\n",
        "import matplotlib.pyplot as plt\n",
        "import pandas as pd\n",
        "\n",
        "# Importing the dataset\n",
        "dataset = pd.read_csv('aa.csv')\n",
        "Xx = dataset.iloc[:, 1:15].values\n",
        "yy = dataset.iloc[:, 15].values"
      ],
      "execution_count": 19,
      "outputs": []
    },
    {
      "cell_type": "code",
      "source": [
        "band_no = Xx.shape[1]\n",
        "h = Xx.shape[1]\n",
        "w = Xx.shape[0]\n",
        "K = 4  # The target number of bands\n",
        "Xx.shape, yy.shape, h, w, band_no"
      ],
      "metadata": {
        "colab": {
          "base_uri": "https://localhost:8080/"
        },
        "id": "ry_a8fkINfCC",
        "outputId": "6bf4a089-00e0-48dd-c4b5-102debb8d007"
      },
      "execution_count": 20,
      "outputs": [
        {
          "output_type": "execute_result",
          "data": {
            "text/plain": [
              "((158, 14), (158,), 14, 158, 14)"
            ]
          },
          "metadata": {},
          "execution_count": 20
        }
      ]
    },
    {
      "cell_type": "code",
      "source": [
        "df = extract_pixels(Xx, yy)\n",
        "X = df.iloc[:, :-1]"
      ],
      "metadata": {
        "id": "c3MaGg9eMXdA"
      },
      "execution_count": 21,
      "outputs": []
    },
    {
      "cell_type": "code",
      "source": [
        "X.shape"
      ],
      "metadata": {
        "colab": {
          "base_uri": "https://localhost:8080/"
        },
        "id": "cNDGXMhQM_yZ",
        "outputId": "4db07df2-0c08-408c-bba0-d31f7dcdc949"
      },
      "execution_count": 22,
      "outputs": [
        {
          "output_type": "execute_result",
          "data": {
            "text/plain": [
              "(158, 14)"
            ]
          },
          "metadata": {},
          "execution_count": 22
        }
      ]
    },
    {
      "cell_type": "code",
      "source": [
        "CRV_X = CRV(X, band_no, w, h, numComponents= K)\n",
        "X = CRV_X\n",
        "X.shape"
      ],
      "metadata": {
        "colab": {
          "base_uri": "https://localhost:8080/"
        },
        "id": "BmU5T_GvNUTf",
        "outputId": "906befd3-24cc-46a3-8f21-74118320ef51"
      },
      "execution_count": 23,
      "outputs": [
        {
          "output_type": "stream",
          "name": "stdout",
          "text": [
            "(158, 14) (158, 14)\n",
            "Index(['band10', 'band8', 'band9', 'band7'], dtype='object')\n",
            "(158, 4)\n"
          ]
        },
        {
          "output_type": "execute_result",
          "data": {
            "text/plain": [
              "(158, 4)"
            ]
          },
          "metadata": {},
          "execution_count": 23
        }
      ]
    },
    {
      "cell_type": "code",
      "metadata": {
        "colab": {
          "base_uri": "https://localhost:8080/",
          "height": 356
        },
        "id": "BmDdlYDrNhpE",
        "outputId": "c4cbcde8-1aed-4d09-df42-1ecb04402afe"
      },
      "source": [
        "from matplotlib import pyplot\n",
        "pyplot.figure(figsize=(7,5))\n",
        "pyplot.hist(X[:,:], bins=25)\n",
        "pyplot.suptitle(\"Main Dataset\")\n",
        "pyplot.show()\n"
      ],
      "execution_count": 24,
      "outputs": [
        {
          "output_type": "display_data",
          "data": {
            "text/plain": [
              "<Figure size 504x360 with 1 Axes>"
            ],
            "image/png": "[encoded data removed]"
          },
          "metadata": {
            "needs_background": "light"
          }
        }
      ]
    },
    {
      "cell_type": "code",
      "metadata": {
        "colab": {
          "base_uri": "https://localhost:8080/",
          "height": 373
        },
        "id": "XhQZ3KvqPk13",
        "outputId": "622c8f04-3443-410d-82c4-adf8290f1d60"
      },
      "source": [
        "pyplot.figure(figsize=(7,5))\n",
        "c = pyplot.boxplot(X[:,:])\n",
        "top_points = c[\"fliers\"][0].get_data()[1]\n",
        "pyplot.boxplot(X[:,:])\n",
        "pyplot.suptitle(\"Main Dataset\")\n",
        "pyplot.show()\n",
        "top_points"
      ],
      "execution_count": 25,
      "outputs": [
        {
          "output_type": "display_data",
          "data": {
            "text/plain": [
              "<Figure size 504x360 with 1 Axes>"
            ],
            "image/png": "[encoded data removed]"
          },
          "metadata": {
            "needs_background": "light"
          }
        },
        {
          "output_type": "execute_result",
          "data": {
            "text/plain": [
              "array([-3.15029953, -5.19933758,  5.19933758])"
            ]
          },
          "metadata": {},
          "execution_count": 25
        }
      ]
    }
  ]
}